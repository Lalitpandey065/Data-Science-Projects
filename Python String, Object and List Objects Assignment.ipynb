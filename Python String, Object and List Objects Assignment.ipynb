{
 "cells": [
  {
   "cell_type": "markdown",
   "metadata": {},
   "source": [
    "### Ques:1 Create the Below Pattern using nested for loop in python\n",
    "\n",
    "###### *\n",
    "###### **\n",
    "###### ***\n",
    "###### ****\n",
    "###### *****\n",
    "###### ****\n",
    "###### ***\n",
    "###### **\n",
    "###### *\n"
   ]
  },
  {
   "cell_type": "code",
   "execution_count": 31,
   "metadata": {},
   "outputs": [
    {
     "name": "stdout",
     "output_type": "stream",
     "text": [
      "*\n",
      "\n",
      "**\n",
      "\n",
      "***\n",
      "\n",
      "****\n",
      "\n",
      "*****\n",
      "\n",
      "****\n",
      "\n",
      "***\n",
      "\n",
      "**\n",
      "\n",
      "*\n",
      "\n",
      "\n",
      "\n"
     ]
    }
   ],
   "source": [
    "for i in range(5):\n",
    "    for j in range(0, i+1):\n",
    "        print('*', end = '')\n",
    "    print('\\n')\n",
    "\n",
    "for i in range(4,-1,-1):\n",
    "    for j in range(i-1, -1,-1):\n",
    "        print('*', end = '')\n",
    "    print('\\n')"
   ]
  },
  {
   "cell_type": "markdown",
   "metadata": {},
   "source": [
    "### Ques:2 Write a python Program to reverse a word after accepting the input from user \n",
    "\n",
    "### Sample Output :\n",
    "### input word: ineuron\n",
    "### output: norueni\n"
   ]
  },
  {
   "cell_type": "code",
   "execution_count": 34,
   "metadata": {},
   "outputs": [
    {
     "name": "stdout",
     "output_type": "stream",
     "text": [
      "Please Enter a word: ineuron\n",
      "norueni\n"
     ]
    }
   ],
   "source": [
    "input_word = input('Please Enter a word: ')\n",
    "\n",
    "print(input_word[: : -1])"
   ]
  }
 ],
 "metadata": {
  "kernelspec": {
   "display_name": "Python 3",
   "language": "python",
   "name": "python3"
  },
  "language_info": {
   "codemirror_mode": {
    "name": "ipython",
    "version": 3
   },
   "file_extension": ".py",
   "mimetype": "text/x-python",
   "name": "python",
   "nbconvert_exporter": "python",
   "pygments_lexer": "ipython3",
   "version": "3.8.5"
  }
 },
 "nbformat": 4,
 "nbformat_minor": 4
}
